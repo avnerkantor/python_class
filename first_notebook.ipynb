{
  "nbformat": 4,
  "nbformat_minor": 0,
  "metadata": {
    "kernelspec": {
      "display_name": "Python 3",
      "language": "python",
      "name": "python3"
    },
    "language_info": {
      "codemirror_mode": {
        "name": "ipython",
        "version": 3
      },
      "file_extension": ".py",
      "mimetype": "text/x-python",
      "name": "python",
      "nbconvert_exporter": "python",
      "pygments_lexer": "ipython3",
      "version": "3.7.4"
    },
    "papermill": {
      "duration": 8.571866,
      "end_time": "2020-10-01T00:25:29.217110",
      "environment_variables": {},
      "exception": null,
      "input_path": "__notebook__.ipynb",
      "output_path": "__notebook__.ipynb",
      "parameters": {},
      "start_time": "2020-10-01T00:25:20.645244",
      "version": "2.1.0"
    },
    "colab": {
      "name": "Jupyter notebook.ipynb",
      "provenance": [],
      "toc_visible": true
    }
  },
  "cells": [
    {
      "cell_type": "markdown",
      "metadata": {
        "papermill": {
          "duration": 0.014189,
          "end_time": "2020-10-01T00:25:26.014209",
          "exception": false,
          "start_time": "2020-10-01T00:25:26.000020",
          "status": "completed"
        },
        "tags": [],
        "id": "IbJdab02G4rf"
      },
      "source": [
        "# Jupyter notebook\n",
        "\n",
        "A Jupyter notebook is a browser application where you can write, run, remix and republish code.\n",
        "\n",
        "It is free software you can install and run like any other open-source library. It is used by scientists, scholars, investors and corporations to create and share their research.\n",
        "\n",
        "Do not stress. There is nothing too fancy about it. You can start by just doing a little simple math.\n",
        "\n",
        "Type the following into the first box, then hit the play button in the toolbar above the notebook (or hit SHIFT+ENTER on your keyboard)."
      ]
    },
    {
      "cell_type": "code",
      "metadata": {
        "execution": {
          "iopub.execute_input": "2020-10-01T00:25:26.049312Z",
          "iopub.status.busy": "2020-10-01T00:25:26.048440Z",
          "iopub.status.idle": "2020-10-01T00:25:28.389182Z",
          "shell.execute_reply": "2020-10-01T00:25:28.388475Z"
        },
        "papermill": {
          "duration": 2.360773,
          "end_time": "2020-10-01T00:25:28.389321",
          "exception": false,
          "start_time": "2020-10-01T00:25:26.028548",
          "status": "completed"
        },
        "tags": [],
        "id": "5gywEFxqG4rg"
      },
      "source": [
        "2+2"
      ],
      "execution_count": null,
      "outputs": []
    },
    {
      "cell_type": "markdown",
      "metadata": {
        "papermill": {
          "duration": 0.014318,
          "end_time": "2020-10-01T00:25:28.420161",
          "exception": false,
          "start_time": "2020-10-01T00:25:28.405843",
          "status": "completed"
        },
        "tags": [],
        "id": "B0qQb_jCG4rh"
      },
      "source": [
        "There. You have just written your first Python code. You have entered two integers and added them together using the plus sign operator.\n",
        "\n",
        "Not so bad, right?\n",
        "\n",
        "If you get an error after you run a cell, look carefully at your code and see that it exactly matches what’s been written in the example. Don’t worry.\n",
        "\n",
        "Code crashes are a normal part of life for computer programmers. They’re usually caused by small typos that can be quickly corrected.\n",
        "\n",
        "This to-and-fro of writing Python code in a notebook cell and then running it with the play button is the rhythm of working in a notebook. Over time you will gradually stack cells to organize an analysis that runs from top to bottom.\n",
        "\n",
        "The cells can contain variables, functions and other Python tools.\n",
        "\n",
        "A simple example would be storing your number in a variable in one cell …"
      ]
    },
    {
      "cell_type": "code",
      "metadata": {
        "execution": {
          "iopub.execute_input": "2020-10-01T00:25:28.458362Z",
          "iopub.status.busy": "2020-10-01T00:25:28.457503Z",
          "iopub.status.idle": "2020-10-01T00:25:28.485392Z",
          "shell.execute_reply": "2020-10-01T00:25:28.484574Z"
        },
        "papermill": {
          "duration": 0.050805,
          "end_time": "2020-10-01T00:25:28.485520",
          "exception": false,
          "start_time": "2020-10-01T00:25:28.434715",
          "status": "completed"
        },
        "tags": [],
        "id": "rNqf4q9hG4ri"
      },
      "source": [
        "number = 2"
      ],
      "execution_count": null,
      "outputs": []
    },
    {
      "cell_type": "markdown",
      "metadata": {
        "papermill": {
          "duration": 0.014423,
          "end_time": "2020-10-01T00:25:28.514755",
          "exception": false,
          "start_time": "2020-10-01T00:25:28.500332",
          "status": "completed"
        },
        "tags": [],
        "id": "Ms0c9H5bG4ri"
      },
      "source": [
        "… then adding it to another number in the next."
      ]
    },
    {
      "cell_type": "code",
      "metadata": {
        "execution": {
          "iopub.execute_input": "2020-10-01T00:25:28.551253Z",
          "iopub.status.busy": "2020-10-01T00:25:28.550274Z",
          "iopub.status.idle": "2020-10-01T00:25:28.554301Z",
          "shell.execute_reply": "2020-10-01T00:25:28.554956Z"
        },
        "papermill": {
          "duration": 0.025667,
          "end_time": "2020-10-01T00:25:28.555125",
          "exception": false,
          "start_time": "2020-10-01T00:25:28.529458",
          "status": "completed"
        },
        "tags": [],
        "id": "XlU8mJT0G4ri"
      },
      "source": [
        "number + 3"
      ],
      "execution_count": null,
      "outputs": []
    }
  ]
}