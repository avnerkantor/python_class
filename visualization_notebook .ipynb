{
 "cells": [
  {
   "cell_type": "markdown",
   "metadata": {},
   "source": [
    "# Visualization "
   ]
  },
  {
   "cell_type": "markdown",
   "metadata": {},
   "source": [
    "Python has a number of charting tools that can work hand in hand with pandas. The most popular is [matplotlib](http://matplotlib.org/). It isn't the prettiest thing in the world, but it offers some reasonably straightfoward tools for making quick charts. And, best of all, it can display right here in our Jupyter Notebook."
   ]
  },
  {
   "cell_type": "markdown",
   "metadata": {},
   "source": [
    "Before we start, we'll need to make sure matplotlib is installed. Return to your terminal and try installing it with our buddy pip, as we installed other things before."
   ]
  },
  {
   "cell_type": "markdown",
   "metadata": {},
   "source": [
    "```bash\n",
    "    pip install matplotlib\n",
    "```"
   ]
  },
  {
   "cell_type": "markdown",
   "metadata": {},
   "source": [
    "Once you've got it in here, you can import it just as we would anything else. Though by adding the optional ``as`` option at the end we can create a shorter alias for accessing its tools."
   ]
  },
  {
   "cell_type": "code",
   "execution_count": 1,
   "metadata": {},
   "outputs": [],
   "source": [
    "import matplotlib.pyplot as plt"
   ]
  },
  {
   "cell_type": "markdown",
   "metadata": {},
   "source": [
    "Before we'll get started, let's run one more trick to configure matplotlib to show its charts in our notebook."
   ]
  },
  {
   "cell_type": "code",
   "execution_count": 2,
   "metadata": {},
   "outputs": [],
   "source": [
    "%matplotlib inline"
   ]
  },
  {
   "cell_type": "markdown",
   "metadata": {},
   "source": [
    "Now let's save the data we want to chart into a variable"
   ]
  },
  {
   "cell_type": "code",
   "execution_count": 7,
   "metadata": {},
   "outputs": [
    {
     "data": {
      "text/html": [
       "<div>\n",
       "<style scoped>\n",
       "    .dataframe tbody tr th:only-of-type {\n",
       "        vertical-align: middle;\n",
       "    }\n",
       "\n",
       "    .dataframe tbody tr th {\n",
       "        vertical-align: top;\n",
       "    }\n",
       "\n",
       "    .dataframe thead th {\n",
       "        text-align: right;\n",
       "    }\n",
       "</style>\n",
       "<table border=\"1\" class=\"dataframe\">\n",
       "  <thead>\n",
       "    <tr style=\"text-align: right;\">\n",
       "      <th></th>\n",
       "      <th>calaccess_committee_id</th>\n",
       "      <th>committee_name</th>\n",
       "      <th>calaccess_filing_id</th>\n",
       "      <th>date_received</th>\n",
       "      <th>contributor_lastname</th>\n",
       "      <th>contributor_firstname</th>\n",
       "      <th>contributor_city</th>\n",
       "      <th>contributor_state</th>\n",
       "      <th>contributor_zip</th>\n",
       "      <th>contributor_employer</th>\n",
       "      <th>contributor_occupation</th>\n",
       "      <th>contributor_is_self_employed</th>\n",
       "      <th>amount</th>\n",
       "    </tr>\n",
       "  </thead>\n",
       "  <tbody>\n",
       "    <tr>\n",
       "      <td>0</td>\n",
       "      <td>1386560</td>\n",
       "      <td>ADULT USE CAMPAIGN FOR PROPOSITION 64; THE</td>\n",
       "      <td>2083796</td>\n",
       "      <td>2016-09-18</td>\n",
       "      <td>BERGMAN</td>\n",
       "      <td>GRETCHEN</td>\n",
       "      <td>SPRING VALLEY</td>\n",
       "      <td>CA</td>\n",
       "      <td>91978</td>\n",
       "      <td>A NEW PATH</td>\n",
       "      <td>EXECUTIVE DIRECTOR</td>\n",
       "      <td>False</td>\n",
       "      <td>84.0</td>\n",
       "    </tr>\n",
       "    <tr>\n",
       "      <td>1</td>\n",
       "      <td>1386560</td>\n",
       "      <td>ADULT USE CAMPAIGN FOR PROPOSITION 64; THE</td>\n",
       "      <td>2083796</td>\n",
       "      <td>2016-09-18</td>\n",
       "      <td>KAHLE</td>\n",
       "      <td>MYRNA</td>\n",
       "      <td>SAN DIEGO</td>\n",
       "      <td>CA</td>\n",
       "      <td>92109</td>\n",
       "      <td>NATIONAL SCHOOL DISTRICT</td>\n",
       "      <td>TEACHER</td>\n",
       "      <td>False</td>\n",
       "      <td>35.0</td>\n",
       "    </tr>\n",
       "    <tr>\n",
       "      <td>2</td>\n",
       "      <td>1386560</td>\n",
       "      <td>ADULT USE CAMPAIGN FOR PROPOSITION 64; THE</td>\n",
       "      <td>2083796</td>\n",
       "      <td>2016-07-15</td>\n",
       "      <td>MCDEVITT</td>\n",
       "      <td>LEO</td>\n",
       "      <td>ESCONDIDO</td>\n",
       "      <td>CA</td>\n",
       "      <td>92025</td>\n",
       "      <td>LIFE IONIZERS</td>\n",
       "      <td>SEO/CONTENT MANAGER</td>\n",
       "      <td>False</td>\n",
       "      <td>198.0</td>\n",
       "    </tr>\n",
       "    <tr>\n",
       "      <td>3</td>\n",
       "      <td>1386560</td>\n",
       "      <td>ADULT USE CAMPAIGN FOR PROPOSITION 64; THE</td>\n",
       "      <td>2083796</td>\n",
       "      <td>2016-08-10</td>\n",
       "      <td>WARREN-SAMARIPA</td>\n",
       "      <td>STEPHANIE</td>\n",
       "      <td>SAN DIEGO</td>\n",
       "      <td>CA</td>\n",
       "      <td>92116</td>\n",
       "      <td>STEPHANIE WARREN SAMARIPA</td>\n",
       "      <td>ENTREPRENEUR</td>\n",
       "      <td>False</td>\n",
       "      <td>-50.0</td>\n",
       "    </tr>\n",
       "    <tr>\n",
       "      <td>4</td>\n",
       "      <td>1386560</td>\n",
       "      <td>ADULT USE CAMPAIGN FOR PROPOSITION 64; THE</td>\n",
       "      <td>2083796</td>\n",
       "      <td>2016-07-26</td>\n",
       "      <td>WARREN-SAMARIPA</td>\n",
       "      <td>STEPHANIE</td>\n",
       "      <td>SAN DIEGO</td>\n",
       "      <td>CA</td>\n",
       "      <td>92116</td>\n",
       "      <td>STEPHANIE WARREN SAMARIPA</td>\n",
       "      <td>ENTREPRENEUR</td>\n",
       "      <td>True</td>\n",
       "      <td>50.0</td>\n",
       "    </tr>\n",
       "  </tbody>\n",
       "</table>\n",
       "</div>"
      ],
      "text/plain": [
       "   calaccess_committee_id                              committee_name  \\\n",
       "0                 1386560  ADULT USE CAMPAIGN FOR PROPOSITION 64; THE   \n",
       "1                 1386560  ADULT USE CAMPAIGN FOR PROPOSITION 64; THE   \n",
       "2                 1386560  ADULT USE CAMPAIGN FOR PROPOSITION 64; THE   \n",
       "3                 1386560  ADULT USE CAMPAIGN FOR PROPOSITION 64; THE   \n",
       "4                 1386560  ADULT USE CAMPAIGN FOR PROPOSITION 64; THE   \n",
       "\n",
       "   calaccess_filing_id date_received contributor_lastname  \\\n",
       "0              2083796    2016-09-18              BERGMAN   \n",
       "1              2083796    2016-09-18                KAHLE   \n",
       "2              2083796    2016-07-15             MCDEVITT   \n",
       "3              2083796    2016-08-10      WARREN-SAMARIPA   \n",
       "4              2083796    2016-07-26      WARREN-SAMARIPA   \n",
       "\n",
       "  contributor_firstname contributor_city contributor_state contributor_zip  \\\n",
       "0              GRETCHEN    SPRING VALLEY                CA           91978   \n",
       "1                 MYRNA        SAN DIEGO                CA           92109   \n",
       "2                   LEO        ESCONDIDO                CA           92025   \n",
       "3             STEPHANIE        SAN DIEGO                CA           92116   \n",
       "4             STEPHANIE        SAN DIEGO                CA           92116   \n",
       "\n",
       "        contributor_employer contributor_occupation  \\\n",
       "0                 A NEW PATH     EXECUTIVE DIRECTOR   \n",
       "1   NATIONAL SCHOOL DISTRICT                TEACHER   \n",
       "2              LIFE IONIZERS    SEO/CONTENT MANAGER   \n",
       "3  STEPHANIE WARREN SAMARIPA           ENTREPRENEUR   \n",
       "4  STEPHANIE WARREN SAMARIPA           ENTREPRENEUR   \n",
       "\n",
       "   contributor_is_self_employed  amount  \n",
       "0                         False    84.0  \n",
       "1                         False    35.0  \n",
       "2                         False   198.0  \n",
       "3                         False   -50.0  \n",
       "4                          True    50.0  "
      ]
     },
     "execution_count": 7,
     "metadata": {},
     "output_type": "execute_result"
    }
   ],
   "source": [
    "import pandas as pd\n",
    "contrib_list = pd.read_csv(\"contributions.csv\")"
   ]
  },
  {
   "cell_type": "code",
   "execution_count": 8,
   "metadata": {},
   "outputs": [],
   "source": [
    "top_supporters = contrib_list.groupby(\n",
    "    [\"contributor_firstname\", \"contributor_lastname\"]\n",
    ")['amount'].sum().reset_index().sort_values(\"amount\", ascending=False).head(10)"
   ]
  },
  {
   "cell_type": "code",
   "execution_count": 9,
   "metadata": {
    "scrolled": true
   },
   "outputs": [
    {
     "data": {
      "text/html": [
       "<div>\n",
       "<style scoped>\n",
       "    .dataframe tbody tr th:only-of-type {\n",
       "        vertical-align: middle;\n",
       "    }\n",
       "\n",
       "    .dataframe tbody tr th {\n",
       "        vertical-align: top;\n",
       "    }\n",
       "\n",
       "    .dataframe thead th {\n",
       "        text-align: right;\n",
       "    }\n",
       "</style>\n",
       "<table border=\"1\" class=\"dataframe\">\n",
       "  <thead>\n",
       "    <tr style=\"text-align: right;\">\n",
       "      <th></th>\n",
       "      <th>contributor_firstname</th>\n",
       "      <th>contributor_lastname</th>\n",
       "      <th>amount</th>\n",
       "    </tr>\n",
       "  </thead>\n",
       "  <tbody>\n",
       "    <tr>\n",
       "      <td>36156</td>\n",
       "      <td>THOMAS F.</td>\n",
       "      <td>STEYER</td>\n",
       "      <td>11400000.0</td>\n",
       "    </tr>\n",
       "    <tr>\n",
       "      <td>33779</td>\n",
       "      <td>SEAN</td>\n",
       "      <td>PARKER AND AFFILIATED ENTITIES</td>\n",
       "      <td>7250000.0</td>\n",
       "    </tr>\n",
       "    <tr>\n",
       "      <td>8685</td>\n",
       "      <td>DEAN A.</td>\n",
       "      <td>CORTOPASSI</td>\n",
       "      <td>2000000.0</td>\n",
       "    </tr>\n",
       "    <tr>\n",
       "      <td>33778</td>\n",
       "      <td>SEAN</td>\n",
       "      <td>PARKER</td>\n",
       "      <td>1900000.0</td>\n",
       "    </tr>\n",
       "    <tr>\n",
       "      <td>36094</td>\n",
       "      <td>THOMAS</td>\n",
       "      <td>STEYER</td>\n",
       "      <td>1750000.0</td>\n",
       "    </tr>\n",
       "    <tr>\n",
       "      <td>27738</td>\n",
       "      <td>NICHOLAS</td>\n",
       "      <td>MCKEOWN</td>\n",
       "      <td>1500000.0</td>\n",
       "    </tr>\n",
       "    <tr>\n",
       "      <td>17540</td>\n",
       "      <td>JOAN</td>\n",
       "      <td>CORTOPASSI</td>\n",
       "      <td>1500000.0</td>\n",
       "    </tr>\n",
       "    <tr>\n",
       "      <td>20280</td>\n",
       "      <td>JULIE</td>\n",
       "      <td>SCHAUER</td>\n",
       "      <td>1364000.0</td>\n",
       "    </tr>\n",
       "    <tr>\n",
       "      <td>7111</td>\n",
       "      <td>DANIEL</td>\n",
       "      <td>LEWIS</td>\n",
       "      <td>1250000.0</td>\n",
       "    </tr>\n",
       "    <tr>\n",
       "      <td>27740</td>\n",
       "      <td>NICHOLAS</td>\n",
       "      <td>PRITZKER</td>\n",
       "      <td>1250000.0</td>\n",
       "    </tr>\n",
       "  </tbody>\n",
       "</table>\n",
       "</div>"
      ],
      "text/plain": [
       "      contributor_firstname            contributor_lastname      amount\n",
       "36156             THOMAS F.                          STEYER  11400000.0\n",
       "33779                  SEAN  PARKER AND AFFILIATED ENTITIES   7250000.0\n",
       "8685                DEAN A.                      CORTOPASSI   2000000.0\n",
       "33778                  SEAN                          PARKER   1900000.0\n",
       "36094                THOMAS                          STEYER   1750000.0\n",
       "27738              NICHOLAS                         MCKEOWN   1500000.0\n",
       "17540                  JOAN                      CORTOPASSI   1500000.0\n",
       "20280                 JULIE                         SCHAUER   1364000.0\n",
       "7111                 DANIEL                           LEWIS   1250000.0\n",
       "27740              NICHOLAS                        PRITZKER   1250000.0"
      ]
     },
     "execution_count": 9,
     "metadata": {},
     "output_type": "execute_result"
    }
   ],
   "source": [
    "top_supporters"
   ]
  },
  {
   "cell_type": "markdown",
   "metadata": {},
   "source": [
    "Making a quick bar chart is as easy as this."
   ]
  },
  {
   "cell_type": "code",
   "execution_count": 10,
   "metadata": {
    "scrolled": false
   },
   "outputs": [
    {
     "data": {
      "text/plain": [
       "<matplotlib.axes._subplots.AxesSubplot at 0x205a6fa33c8>"
      ]
     },
     "execution_count": 10,
     "metadata": {},
     "output_type": "execute_result"
    },
    {
     "data": {
      "image/png": "[encoded data removed]",
      "text/plain": [
       "<Figure size 432x288 with 1 Axes>"
      ]
     },
     "metadata": {
      "needs_background": "light"
     },
     "output_type": "display_data"
    }
   ],
   "source": [
    "top_supporters['amount'].plot.bar()"
   ]
  },
  {
   "cell_type": "code",
   "execution_count": 11,
   "metadata": {
    "scrolled": true
   },
   "outputs": [
    {
     "data": {
      "text/plain": [
       "<matplotlib.axes._subplots.AxesSubplot at 0x205a8075108>"
      ]
     },
     "execution_count": 11,
     "metadata": {},
     "output_type": "execute_result"
    },
    {
     "data": {
      "image/png": "[encoded data removed]",
      "text/plain": [
       "<Figure size 432x288 with 1 Axes>"
      ]
     },
     "metadata": {
      "needs_background": "light"
     },
     "output_type": "display_data"
    }
   ],
   "source": [
    "top_supporters['amount'].plot.barh()"
   ]
  },
  {
   "cell_type": "markdown",
   "metadata": {},
   "source": [
    "It's really those first five that are the most interesting, so let's trim our chart."
   ]
  },
  {
   "cell_type": "code",
   "execution_count": 12,
   "metadata": {},
   "outputs": [
    {
     "data": {
      "text/plain": [
       "<matplotlib.axes._subplots.AxesSubplot at 0x205a7e51308>"
      ]
     },
     "execution_count": 12,
     "metadata": {},
     "output_type": "execute_result"
    },
    {
     "data": {
      "image/png": "[encoded data removed]",
      "text/plain": [
       "<Figure size 432x288 with 1 Axes>"
      ]
     },
     "metadata": {
      "needs_background": "light"
     },
     "output_type": "display_data"
    }
   ],
   "source": [
    "top_supporters.head(5)['amount'].plot.barh()"
   ]
  },
  {
   "cell_type": "markdown",
   "metadata": {},
   "source": [
    "What are those y axis labels? Those are the row number (pandas calls them indexes) of each row. We don't want that. We want the names."
   ]
  },
  {
   "cell_type": "code",
   "execution_count": 13,
   "metadata": {},
   "outputs": [
    {
     "data": {
      "text/plain": [
       "[Text(0, 0, 'STEYER'),\n",
       " Text(0, 0, 'PARKER AND AFFILIATED ENTITIES'),\n",
       " Text(0, 0, 'CORTOPASSI'),\n",
       " Text(0, 0, 'PARKER'),\n",
       " Text(0, 0, 'STEYER')]"
      ]
     },
     "execution_count": 13,
     "metadata": {},
     "output_type": "execute_result"
    },
    {
     "data": {
      "image/png": "[encoded data removed]",
      "text/plain": [
       "<Figure size 432x288 with 1 Axes>"
      ]
     },
     "metadata": {
      "needs_background": "light"
     },
     "output_type": "display_data"
    }
   ],
   "source": [
    "chart = top_supporters.head(5)['amount'].plot.barh()\n",
    "chart.set_yticklabels(top_supporters['contributor_lastname'])"
   ]
  },
  {
   "cell_type": "markdown",
   "metadata": {},
   "source": [
    "Okay, but what if I want to combine the first and last name?\n",
    "\n",
    "First, make a new column. First let's look at what we have now."
   ]
  },
  {
   "cell_type": "code",
   "execution_count": 14,
   "metadata": {},
   "outputs": [
    {
     "data": {
      "text/html": [
       "<div>\n",
       "<style scoped>\n",
       "    .dataframe tbody tr th:only-of-type {\n",
       "        vertical-align: middle;\n",
       "    }\n",
       "\n",
       "    .dataframe tbody tr th {\n",
       "        vertical-align: top;\n",
       "    }\n",
       "\n",
       "    .dataframe thead th {\n",
       "        text-align: right;\n",
       "    }\n",
       "</style>\n",
       "<table border=\"1\" class=\"dataframe\">\n",
       "  <thead>\n",
       "    <tr style=\"text-align: right;\">\n",
       "      <th></th>\n",
       "      <th>contributor_firstname</th>\n",
       "      <th>contributor_lastname</th>\n",
       "      <th>amount</th>\n",
       "    </tr>\n",
       "  </thead>\n",
       "  <tbody>\n",
       "    <tr>\n",
       "      <td>36156</td>\n",
       "      <td>THOMAS F.</td>\n",
       "      <td>STEYER</td>\n",
       "      <td>11400000.0</td>\n",
       "    </tr>\n",
       "    <tr>\n",
       "      <td>33779</td>\n",
       "      <td>SEAN</td>\n",
       "      <td>PARKER AND AFFILIATED ENTITIES</td>\n",
       "      <td>7250000.0</td>\n",
       "    </tr>\n",
       "    <tr>\n",
       "      <td>8685</td>\n",
       "      <td>DEAN A.</td>\n",
       "      <td>CORTOPASSI</td>\n",
       "      <td>2000000.0</td>\n",
       "    </tr>\n",
       "    <tr>\n",
       "      <td>33778</td>\n",
       "      <td>SEAN</td>\n",
       "      <td>PARKER</td>\n",
       "      <td>1900000.0</td>\n",
       "    </tr>\n",
       "    <tr>\n",
       "      <td>36094</td>\n",
       "      <td>THOMAS</td>\n",
       "      <td>STEYER</td>\n",
       "      <td>1750000.0</td>\n",
       "    </tr>\n",
       "  </tbody>\n",
       "</table>\n",
       "</div>"
      ],
      "text/plain": [
       "      contributor_firstname            contributor_lastname      amount\n",
       "36156             THOMAS F.                          STEYER  11400000.0\n",
       "33779                  SEAN  PARKER AND AFFILIATED ENTITIES   7250000.0\n",
       "8685                DEAN A.                      CORTOPASSI   2000000.0\n",
       "33778                  SEAN                          PARKER   1900000.0\n",
       "36094                THOMAS                          STEYER   1750000.0"
      ]
     },
     "execution_count": 14,
     "metadata": {},
     "output_type": "execute_result"
    }
   ],
   "source": [
    "top_supporters.head(5)"
   ]
  },
  {
   "cell_type": "markdown",
   "metadata": {},
   "source": [
    "And guess what we can do the same thing with two columns in our table, and use a pandas trick that will apply it to every row."
   ]
  },
  {
   "cell_type": "code",
   "execution_count": 17,
   "metadata": {},
   "outputs": [],
   "source": [
    "top_supporters['full_name'] = top_supporters['contributor_firstname'] + \" \" + top_supporters['contributor_lastname']"
   ]
  },
  {
   "cell_type": "markdown",
   "metadata": {},
   "source": [
    "Now let's see the results"
   ]
  },
  {
   "cell_type": "code",
   "execution_count": 18,
   "metadata": {},
   "outputs": [
    {
     "data": {
      "text/html": [
       "<div>\n",
       "<style scoped>\n",
       "    .dataframe tbody tr th:only-of-type {\n",
       "        vertical-align: middle;\n",
       "    }\n",
       "\n",
       "    .dataframe tbody tr th {\n",
       "        vertical-align: top;\n",
       "    }\n",
       "\n",
       "    .dataframe thead th {\n",
       "        text-align: right;\n",
       "    }\n",
       "</style>\n",
       "<table border=\"1\" class=\"dataframe\">\n",
       "  <thead>\n",
       "    <tr style=\"text-align: right;\">\n",
       "      <th></th>\n",
       "      <th>contributor_firstname</th>\n",
       "      <th>contributor_lastname</th>\n",
       "      <th>amount</th>\n",
       "      <th>FULL_NAME</th>\n",
       "      <th>full_name</th>\n",
       "    </tr>\n",
       "  </thead>\n",
       "  <tbody>\n",
       "    <tr>\n",
       "      <td>36156</td>\n",
       "      <td>THOMAS F.</td>\n",
       "      <td>STEYER</td>\n",
       "      <td>11400000.0</td>\n",
       "      <td>THOMAS F. STEYER</td>\n",
       "      <td>THOMAS F. STEYER</td>\n",
       "    </tr>\n",
       "    <tr>\n",
       "      <td>33779</td>\n",
       "      <td>SEAN</td>\n",
       "      <td>PARKER AND AFFILIATED ENTITIES</td>\n",
       "      <td>7250000.0</td>\n",
       "      <td>SEAN PARKER AND AFFILIATED ENTITIES</td>\n",
       "      <td>SEAN PARKER AND AFFILIATED ENTITIES</td>\n",
       "    </tr>\n",
       "    <tr>\n",
       "      <td>8685</td>\n",
       "      <td>DEAN A.</td>\n",
       "      <td>CORTOPASSI</td>\n",
       "      <td>2000000.0</td>\n",
       "      <td>DEAN A. CORTOPASSI</td>\n",
       "      <td>DEAN A. CORTOPASSI</td>\n",
       "    </tr>\n",
       "    <tr>\n",
       "      <td>33778</td>\n",
       "      <td>SEAN</td>\n",
       "      <td>PARKER</td>\n",
       "      <td>1900000.0</td>\n",
       "      <td>SEAN PARKER</td>\n",
       "      <td>SEAN PARKER</td>\n",
       "    </tr>\n",
       "    <tr>\n",
       "      <td>36094</td>\n",
       "      <td>THOMAS</td>\n",
       "      <td>STEYER</td>\n",
       "      <td>1750000.0</td>\n",
       "      <td>THOMAS STEYER</td>\n",
       "      <td>THOMAS STEYER</td>\n",
       "    </tr>\n",
       "  </tbody>\n",
       "</table>\n",
       "</div>"
      ],
      "text/plain": [
       "      contributor_firstname            contributor_lastname      amount  \\\n",
       "36156             THOMAS F.                          STEYER  11400000.0   \n",
       "33779                  SEAN  PARKER AND AFFILIATED ENTITIES   7250000.0   \n",
       "8685                DEAN A.                      CORTOPASSI   2000000.0   \n",
       "33778                  SEAN                          PARKER   1900000.0   \n",
       "36094                THOMAS                          STEYER   1750000.0   \n",
       "\n",
       "                                 FULL_NAME  \\\n",
       "36156                     THOMAS F. STEYER   \n",
       "33779  SEAN PARKER AND AFFILIATED ENTITIES   \n",
       "8685                    DEAN A. CORTOPASSI   \n",
       "33778                          SEAN PARKER   \n",
       "36094                        THOMAS STEYER   \n",
       "\n",
       "                                 full_name  \n",
       "36156                     THOMAS F. STEYER  \n",
       "33779  SEAN PARKER AND AFFILIATED ENTITIES  \n",
       "8685                    DEAN A. CORTOPASSI  \n",
       "33778                          SEAN PARKER  \n",
       "36094                        THOMAS STEYER  "
      ]
     },
     "execution_count": 18,
     "metadata": {},
     "output_type": "execute_result"
    }
   ],
   "source": [
    "top_supporters.head()"
   ]
  },
  {
   "cell_type": "markdown",
   "metadata": {},
   "source": [
    "Now let's chart that."
   ]
  },
  {
   "cell_type": "code",
   "execution_count": 19,
   "metadata": {},
   "outputs": [
    {
     "data": {
      "text/plain": [
       "[Text(0, 0, 'THOMAS F. STEYER'),\n",
       " Text(0, 0, 'SEAN PARKER AND AFFILIATED ENTITIES'),\n",
       " Text(0, 0, 'DEAN A. CORTOPASSI'),\n",
       " Text(0, 0, 'SEAN PARKER'),\n",
       " Text(0, 0, 'THOMAS STEYER')]"
      ]
     },
     "execution_count": 19,
     "metadata": {},
     "output_type": "execute_result"
    },
    {
     "data": {
      "image/png": "[encoded data removed]",
      "text/plain": [
       "<Figure size 432x288 with 1 Axes>"
      ]
     },
     "metadata": {
      "needs_background": "light"
     },
     "output_type": "display_data"
    }
   ],
   "source": [
    "chart = top_supporters.head(5)['amount'].plot.barh()\n",
    "chart.set_yticklabels(top_supporters['full_name'])"
   ]
  },
  {
   "cell_type": "markdown",
   "metadata": {},
   "source": [
    "That's all well and good, but this chart is pretty ugly. If you wanted to hand this data off to your graphics department, or try your hand at a simple chart yourself using something like [Chartbuilder](https://quartz.github.io/Chartbuilder/), you'd need to export this data into a spreadsheet. \n",
    "\n",
    "It's this easy."
   ]
  },
  {
   "cell_type": "code",
   "execution_count": 20,
   "metadata": {
    "scrolled": false
   },
   "outputs": [],
   "source": [
    "top_supporters.head(5).to_csv(\"top_supporters.csv\")"
   ]
  },
  {
   "cell_type": "markdown",
   "metadata": {},
   "source": [
    "And that's it. You've completed this class. If you want to keep working, try inventing your own questions to ask and answer with the database."
   ]
  }
 ],
 "metadata": {
  "kernelspec": {
   "display_name": "Python 3.7.4 64-bit",
   "language": "python",
   "name": "python37464bit130f5fafbb0040b2920cab6dcc4796a0"
  },
  "language_info": {
   "codemirror_mode": {
    "name": "ipython",
    "version": 3
   },
   "file_extension": ".py",
   "mimetype": "text/x-python",
   "name": "python",
   "nbconvert_exporter": "python",
   "pygments_lexer": "ipython3",
   "version": "3.7.4"
  }
 },
 "nbformat": 4,
 "nbformat_minor": 1
}
